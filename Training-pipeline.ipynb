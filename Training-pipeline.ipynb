{
 "cells": [
  {
   "cell_type": "markdown",
   "id": "91311e2c",
   "metadata": {},
   "source": [
    "# Imports"
   ]
  },
  {
   "cell_type": "code",
   "execution_count": 1,
   "id": "4d6a2cc2",
   "metadata": {},
   "outputs": [],
   "source": [
    "import numpy as np \n",
    "import pandas as pd \n",
    "import matplotlib.pyplot as plt \n",
    "\n",
    "import torch \n",
    "import torch.nn.functional as F \n",
    "\n",
    "from tqdm.notebook import tqdm\n",
    "import utils"
   ]
  },
  {
   "cell_type": "markdown",
   "id": "649abec5",
   "metadata": {},
   "source": [
    "# Load MNIST Handwritten Dataset"
   ]
  },
  {
   "cell_type": "code",
   "execution_count": 2,
   "id": "85e71f8a",
   "metadata": {},
   "outputs": [],
   "source": [
    "from torchvision import datasets \n",
    "from torchvision import transforms as T"
   ]
  },
  {
   "cell_type": "code",
   "execution_count": 6,
   "id": "a9c4b891",
   "metadata": {},
   "outputs": [],
   "source": [
    "#Augmentation of training data in order to make model more reliable\n",
    "\n",
    "train_augmented = T.Compose([\n",
    "    T.RandomHorizontalFlip(p = 0.5),\n",
    "    T.RandomVerticalFlip(p = 0.5),\n",
    "    T.ToTensor(), #will convert array to tensor and \n",
    "    #shift from (height, width, channel) to (channel, height, width)\n",
    "    T.Normalize(mean = 0.5, std = 0.5)\n",
    "])\n",
    "\n",
    "validation_augmented = T.Compose([\n",
    "    T.ToTensor(),\n",
    "    T.Normalize(mean = 0.5, std = 0.5)\n",
    "])"
   ]
  },
  {
   "cell_type": "code",
   "execution_count": 7,
   "id": "f93bf2de",
   "metadata": {},
   "outputs": [],
   "source": [
    "trainset = datasets.MNIST('./', download = False, train = True, transform = train_augmented) #we already have the dataset\n",
    "testset = datasets.MNIST('./', download = False, train = False, transform = validation_augmented) #we already have the dataset"
   ]
  },
  {
   "cell_type": "code",
   "execution_count": 8,
   "id": "9e0622d4",
   "metadata": {},
   "outputs": [],
   "source": [
    "trainset, validationset = torch.utils.data.random_split(trainset, [50000,10000])"
   ]
  },
  {
   "cell_type": "code",
   "execution_count": 10,
   "id": "f36e146c",
   "metadata": {},
   "outputs": [
    {
     "name": "stdout",
     "output_type": "stream",
     "text": [
      "Size of trainset : 50000\n",
      "Size of validset : 10000\n",
      "Size of testset : 10000\n"
     ]
    }
   ],
   "source": [
    "print(f\"Size of trainset : {len(trainset)}\")\n",
    "print(f\"Size of validset : {len(validationset)}\")\n",
    "print(f\"Size of testset : {len(testset)}\")"
   ]
  },
  {
   "cell_type": "code",
   "execution_count": 11,
   "id": "5c014f3d",
   "metadata": {},
   "outputs": [
    {
     "name": "stdout",
     "output_type": "stream",
     "text": [
      "shape of image : torch.Size([1, 28, 28])\n",
      "For visualization we need (h x w x c) so using permute shape will be : torch.Size([28, 28, 1])\n"
     ]
    },
    {
     "data": {
      "image/png": "[encoded data removed]",
      "text/plain": [
       "<Figure size 432x288 with 1 Axes>"
      ]
     },
     "metadata": {
      "needs_background": "light"
     },
     "output_type": "display_data"
    }
   ],
   "source": [
    "idx = 1\n",
    "image, label = trainset[idx]\n",
    "\n",
    "print(f'shape of image : {image.shape}') #we will get channel, height, width, because this is a tensor\n",
    "\n",
    "print(f'For visualization we need (h x w x c) so using permute shape will be : {image.permute(1, 2, 0).shape}')\n",
    "\n",
    "plt.imshow(image.permute(1, 2, 0), cmap = 'gray')\n",
    "plt.title(label);"
   ]
  },
  {
   "cell_type": "markdown",
   "id": "a335aba4",
   "metadata": {},
   "source": [
    "# Load Dataset into batches"
   ]
  },
  {
   "cell_type": "code",
   "execution_count": 12,
   "id": "f7c7cc11",
   "metadata": {},
   "outputs": [],
   "source": [
    "from torch.utils.data import DataLoader"
   ]
  },
  {
   "cell_type": "code",
   "execution_count": 13,
   "id": "b6c936f6",
   "metadata": {},
   "outputs": [],
   "source": [
    "bs = 64\n",
    "trainloader = DataLoader(trainset, batch_size = bs, shuffle = True)\n",
    "validationloader = DataLoader(validationset, batch_size = bs)\n",
    "testloader = DataLoader(testset, batch_size = bs)"
   ]
  },
  {
   "cell_type": "code",
   "execution_count": 15,
   "id": "3a48cc57",
   "metadata": {},
   "outputs": [
    {
     "name": "stdout",
     "output_type": "stream",
     "text": [
      "Total no. of batches in trainloader : 782\n",
      "Total no. of batches in validloader : 157\n",
      "Total no. of batches in testloader : 157\n"
     ]
    }
   ],
   "source": [
    "print(f'Total no. of batches in trainloader : {len(trainloader)}')\n",
    "print(f'Total no. of batches in validloader : {len(validationloader)}')\n",
    "print(f'Total no. of batches in testloader : {len(testloader)}')"
   ]
  },
  {
   "cell_type": "code",
   "execution_count": 16,
   "id": "4d1c00d5",
   "metadata": {},
   "outputs": [
    {
     "name": "stdout",
     "output_type": "stream",
     "text": [
      "One image batch shape is : torch.Size([1, 28, 28])\n",
      "One labels batch shape is : torch.Size([64])\n"
     ]
    }
   ],
   "source": [
    "for images, labels in trainloader:\n",
    "    print(f\"One image batch shape is : {image.shape}\")\n",
    "    print(f\"One labels batch shape is : {labels.shape}\")\n",
    "    break;"
   ]
  },
  {
   "cell_type": "markdown",
   "id": "cca45152",
   "metadata": {},
   "source": [
    "# Load Model "
   ]
  },
  {
   "cell_type": "code",
   "execution_count": 17,
   "id": "b7b155bd",
   "metadata": {},
   "outputs": [
    {
     "data": {
      "text/plain": [
       "DigitModel(\n",
       "  (cnn_block): Sequential(\n",
       "    (0): Conv2d(1, 8, kernel_size=(3, 3), stride=(1, 1), padding=(1, 1))\n",
       "    (1): BatchNorm2d(8, eps=1e-05, momentum=0.1, affine=True, track_running_stats=True)\n",
       "    (2): ReLU()\n",
       "    (3): Conv2d(8, 16, kernel_size=(3, 3), stride=(1, 1), padding=(1, 1))\n",
       "    (4): BatchNorm2d(16, eps=1e-05, momentum=0.1, affine=True, track_running_stats=True)\n",
       "    (5): ReLU()\n",
       "    (6): MaxPool2d(kernel_size=(2, 2), stride=(2, 2), padding=0, dilation=1, ceil_mode=False)\n",
       "    (7): Conv2d(16, 32, kernel_size=(3, 3), stride=(1, 1), padding=(1, 1))\n",
       "    (8): BatchNorm2d(32, eps=1e-05, momentum=0.1, affine=True, track_running_stats=True)\n",
       "    (9): ReLU()\n",
       "    (10): MaxPool2d(kernel_size=(2, 2), stride=(2, 2), padding=0, dilation=1, ceil_mode=False)\n",
       "  )\n",
       "  (linear_block): Sequential(\n",
       "    (0): Flatten(start_dim=1, end_dim=-1)\n",
       "    (1): Linear(in_features=1568, out_features=512, bias=True)\n",
       "    (2): ReLU()\n",
       "    (3): Dropout(p=0.5, inplace=False)\n",
       "    (4): Linear(in_features=512, out_features=256, bias=True)\n",
       "    (5): ReLU()\n",
       "    (6): Dropout(p=0.5, inplace=False)\n",
       "    (7): Linear(in_features=256, out_features=10, bias=True)\n",
       "  )\n",
       ")"
      ]
     },
     "execution_count": 17,
     "metadata": {},
     "output_type": "execute_result"
    }
   ],
   "source": [
    "from models import DigitModel\n",
    "model = DigitModel()\n",
    "model.to('cpu') #we will load the model in CPU, not GPU, it is good practice to define this"
   ]
  },
  {
   "cell_type": "markdown",
   "id": "1b5c3b7f",
   "metadata": {},
   "source": [
    "# Create Train and Eval Function"
   ]
  },
  {
   "cell_type": "code",
   "execution_count": 22,
   "id": "7f2c650e",
   "metadata": {},
   "outputs": [],
   "source": [
    "#Training function\n",
    "def train_function(model, dataloader, criterion, optimizer):\n",
    "    model.train()\n",
    "    total_loss = 0.0\n",
    "    total_accuracy = 0.0\n",
    "    \n",
    "    for images, labels in tqdm(dataloader):\n",
    "        images = images.to('cpu')\n",
    "        labels = labels.to('cpu')\n",
    "        \n",
    "        optimizer.zero_grad()\n",
    "        logits = model(images)\n",
    "        loss = criterion(logits, labels)\n",
    "        loss.backward()\n",
    "        optimizer.step()\n",
    "        \n",
    "        total_loss += loss.item()\n",
    "        total_accuracy += utils.multiclass_accuracy(logits, labels)\n",
    "        \n",
    "    return total_loss / len(dataloader), total_accuracy / len(dataloader)"
   ]
  },
  {
   "cell_type": "code",
   "execution_count": 19,
   "id": "afae506d",
   "metadata": {},
   "outputs": [],
   "source": [
    "#Valudation function\n",
    "def validation_function(model, dataloader, criterion):\n",
    "    model.eval()\n",
    "    total_loss = 0.0\n",
    "    total_accuracy = 0.0\n",
    "    \n",
    "    with torch.no_grad():\n",
    "    \n",
    "        for images, labels in tqdm(dataloader):\n",
    "            images = images.to('cpu')\n",
    "            labels = labels.to('cpu')\n",
    "\n",
    "            logits = model(images)\n",
    "            loss = criterion(logits, labels)\n",
    "\n",
    "            total_loss += loss.item()\n",
    "            total_accuracy += utils.multiclass_accuracy(logits, labels)\n",
    "\n",
    "        return total_loss / len(dataloader), total_accuracy / len(dataloader)"
   ]
  },
  {
   "cell_type": "markdown",
   "id": "20c7d43b",
   "metadata": {},
   "source": [
    "# Training Loop "
   ]
  },
  {
   "cell_type": "code",
   "execution_count": 20,
   "id": "b9bc2b28",
   "metadata": {},
   "outputs": [],
   "source": [
    "criterion = torch.nn.CrossEntropyLoss()\n",
    "optimizer = torch.optim.Adam(model.parameters(), lr = 0.003)"
   ]
  },
  {
   "cell_type": "code",
   "execution_count": 24,
   "id": "4ab29b22",
   "metadata": {},
   "outputs": [
    {
     "data": {
      "application/vnd.jupyter.widget-view+json": {
       "model_id": "ab1c972e938549a1b502f608fec1f8c8",
       "version_major": 2,
       "version_minor": 0
      },
      "text/plain": [
       "  0%|          | 0/782 [00:00<?, ?it/s]"
      ]
     },
     "metadata": {},
     "output_type": "display_data"
    },
    {
     "data": {
      "application/vnd.jupyter.widget-view+json": {
       "model_id": "0a2b8791db034d1c816bcb21ae4c4874",
       "version_major": 2,
       "version_minor": 0
      },
      "text/plain": [
       "  0%|          | 0/782 [00:00<?, ?it/s]"
      ]
     },
     "metadata": {},
     "output_type": "display_data"
    },
    {
     "name": "stdout",
     "output_type": "stream",
     "text": [
      "Epoch 1... Trainloss : 0.3939359156543489.... Train Accuracy: 0.8782169222831726 \n",
      "Epoch 1... Validation loss : 0.1739120866169634.... Validation Accuracy: 0.9469909071922302 \n",
      "Saved best model\n"
     ]
    },
    {
     "data": {
      "application/vnd.jupyter.widget-view+json": {
       "model_id": "fbdbb4f538de4c60af2c0fd0857cb304",
       "version_major": 2,
       "version_minor": 0
      },
      "text/plain": [
       "  0%|          | 0/782 [00:00<?, ?it/s]"
      ]
     },
     "metadata": {},
     "output_type": "display_data"
    },
    {
     "data": {
      "application/vnd.jupyter.widget-view+json": {
       "model_id": "c7b5b0252618473394180a1ba4704ee7",
       "version_major": 2,
       "version_minor": 0
      },
      "text/plain": [
       "  0%|          | 0/782 [00:00<?, ?it/s]"
      ]
     },
     "metadata": {},
     "output_type": "display_data"
    },
    {
     "name": "stdout",
     "output_type": "stream",
     "text": [
      "Epoch 2... Trainloss : 0.3007915490414099.... Train Accuracy: 0.9081481695175171 \n",
      "Epoch 2... Validation loss : 0.1597657617172012.... Validation Accuracy: 0.9525255560874939 \n",
      "Saved best model\n"
     ]
    },
    {
     "data": {
      "application/vnd.jupyter.widget-view+json": {
       "model_id": "1de9660c13684e468105004a70748771",
       "version_major": 2,
       "version_minor": 0
      },
      "text/plain": [
       "  0%|          | 0/782 [00:00<?, ?it/s]"
      ]
     },
     "metadata": {},
     "output_type": "display_data"
    },
    {
     "data": {
      "application/vnd.jupyter.widget-view+json": {
       "model_id": "970b94cf9b5d4c5d816a7666aa6566e4",
       "version_major": 2,
       "version_minor": 0
      },
      "text/plain": [
       "  0%|          | 0/782 [00:00<?, ?it/s]"
      ]
     },
     "metadata": {},
     "output_type": "display_data"
    },
    {
     "name": "stdout",
     "output_type": "stream",
     "text": [
      "Epoch 3... Trainloss : 0.2663872084006324.... Train Accuracy: 0.9197770357131958 \n",
      "Epoch 3... Validation loss : 0.13251196478476837.... Validation Accuracy: 0.9610373973846436 \n",
      "Saved best model\n"
     ]
    },
    {
     "data": {
      "application/vnd.jupyter.widget-view+json": {
       "model_id": "e2a3dda69a7b43d7a7b4c8dfd37ad68b",
       "version_major": 2,
       "version_minor": 0
      },
      "text/plain": [
       "  0%|          | 0/782 [00:00<?, ?it/s]"
      ]
     },
     "metadata": {},
     "output_type": "display_data"
    },
    {
     "data": {
      "application/vnd.jupyter.widget-view+json": {
       "model_id": "a69a2260ba354f45b97ad83887fcb253",
       "version_major": 2,
       "version_minor": 0
      },
      "text/plain": [
       "  0%|          | 0/782 [00:00<?, ?it/s]"
      ]
     },
     "metadata": {},
     "output_type": "display_data"
    },
    {
     "name": "stdout",
     "output_type": "stream",
     "text": [
      "Epoch 4... Trainloss : 0.24055271855343485.... Train Accuracy: 0.9274896383285522 \n",
      "Epoch 4... Validation loss : 0.12184560390146416.... Validation Accuracy: 0.9628956317901611 \n",
      "Saved best model\n"
     ]
    },
    {
     "data": {
      "application/vnd.jupyter.widget-view+json": {
       "model_id": "90fee4db523b4bdbb7ce640bf6fc9bd3",
       "version_major": 2,
       "version_minor": 0
      },
      "text/plain": [
       "  0%|          | 0/782 [00:00<?, ?it/s]"
      ]
     },
     "metadata": {},
     "output_type": "display_data"
    },
    {
     "data": {
      "application/vnd.jupyter.widget-view+json": {
       "model_id": "10baa5eb8cf84e36b8c4ef2c174ea272",
       "version_major": 2,
       "version_minor": 0
      },
      "text/plain": [
       "  0%|          | 0/782 [00:00<?, ?it/s]"
      ]
     },
     "metadata": {},
     "output_type": "display_data"
    },
    {
     "name": "stdout",
     "output_type": "stream",
     "text": [
      "Epoch 5... Trainloss : 0.2222702210873861.... Train Accuracy: 0.934502899646759 \n",
      "Epoch 5... Validation loss : 0.14088074814842638.... Validation Accuracy: 0.9560222029685974 \n"
     ]
    },
    {
     "data": {
      "application/vnd.jupyter.widget-view+json": {
       "model_id": "691625ee5b144cd6b95096b979931491",
       "version_major": 2,
       "version_minor": 0
      },
      "text/plain": [
       "  0%|          | 0/782 [00:00<?, ?it/s]"
      ]
     },
     "metadata": {},
     "output_type": "display_data"
    },
    {
     "data": {
      "application/vnd.jupyter.widget-view+json": {
       "model_id": "e05cb88b8d9f43d3a1bde1a50fde37a6",
       "version_major": 2,
       "version_minor": 0
      },
      "text/plain": [
       "  0%|          | 0/782 [00:00<?, ?it/s]"
      ]
     },
     "metadata": {},
     "output_type": "display_data"
    },
    {
     "name": "stdout",
     "output_type": "stream",
     "text": [
      "Epoch 6... Trainloss : 0.2123150669152627.... Train Accuracy: 0.9365409016609192 \n",
      "Epoch 6... Validation loss : 0.11167611479354293.... Validation Accuracy: 0.9663123488426208 \n",
      "Saved best model\n"
     ]
    },
    {
     "data": {
      "application/vnd.jupyter.widget-view+json": {
       "model_id": "bd8f60b231be473f92e815f7d2d449b7",
       "version_major": 2,
       "version_minor": 0
      },
      "text/plain": [
       "  0%|          | 0/782 [00:00<?, ?it/s]"
      ]
     },
     "metadata": {},
     "output_type": "display_data"
    },
    {
     "data": {
      "application/vnd.jupyter.widget-view+json": {
       "model_id": "8e19f9cdd12e4f05ae1e65f3a9a057a0",
       "version_major": 2,
       "version_minor": 0
      },
      "text/plain": [
       "  0%|          | 0/782 [00:00<?, ?it/s]"
      ]
     },
     "metadata": {},
     "output_type": "display_data"
    },
    {
     "name": "stdout",
     "output_type": "stream",
     "text": [
      "Epoch 7... Trainloss : 0.20458234011021723.... Train Accuracy: 0.9394980669021606 \n",
      "Epoch 7... Validation loss : 0.11088716713330515.... Validation Accuracy: 0.9666919708251953 \n",
      "Saved best model\n"
     ]
    }
   ],
   "source": [
    "best_validation_loss = np.Inf\n",
    "\n",
    "for i in range(7): #epochs\n",
    "    train_loss, train_accuracy = train_function(model, trainloader, criterion, optimizer)\n",
    "    validation_loss, validation_accuracy = validation_function(model, trainloader, criterion)\n",
    "    print(f\"Epoch {i+1}... Trainloss : {train_loss}.... Train Accuracy: {train_accuracy} \")\n",
    "    print(f\"Epoch {i+1}... Validation loss : {validation_loss}.... Validation Accuracy: {validation_accuracy} \")\n",
    "    \n",
    "    if validation_loss < best_validation_loss:\n",
    "        torch.save(model.state_dict(), 'best_weights.pt')\n",
    "        print('Saved best model')\n",
    "        best_validation_loss = validation_loss"
   ]
  },
  {
   "cell_type": "markdown",
   "id": "cfacb4ce",
   "metadata": {},
   "source": [
    "# Inference"
   ]
  },
  {
   "cell_type": "code",
   "execution_count": 28,
   "id": "505bf818",
   "metadata": {},
   "outputs": [
    {
     "data": {
      "image/png": "[encoded data removed]",
      "text/plain": [
       "<Figure size 432x648 with 2 Axes>"
      ]
     },
     "metadata": {
      "needs_background": "light"
     },
     "output_type": "display_data"
    }
   ],
   "source": [
    "#Lets test our newly trained model\n",
    "image, label = testset[134]\n",
    "weights = torch.load('best_weights.pt')\n",
    "model.load_state_dict(weights)\n",
    "\n",
    "model.eval()\n",
    "with torch.no_grad():\n",
    "    logits = model(image.unsqueeze(0)) #image in test is channel, height, width\n",
    "    #with unsqueeze it becomes batchsize (1), channel, height, width\n",
    "    probabilities = torch.nn.Softmax(dim = 1)(logits)[0]\n",
    "    utils.view_classify(image, probabilities)\n",
    "    "
   ]
  },
  {
   "cell_type": "code",
   "execution_count": null,
   "id": "bb4eef3b",
   "metadata": {},
   "outputs": [],
   "source": []
  }
 ],
 "metadata": {
  "kernelspec": {
   "display_name": "Python 3",
   "language": "python",
   "name": "python3"
  },
  "language_info": {
   "codemirror_mode": {
    "name": "ipython",
    "version": 3
   },
   "file_extension": ".py",
   "mimetype": "text/x-python",
   "name": "python",
   "nbconvert_exporter": "python",
   "pygments_lexer": "ipython3",
   "version": "3.6.9"
  }
 },
 "nbformat": 4,
 "nbformat_minor": 5
}
